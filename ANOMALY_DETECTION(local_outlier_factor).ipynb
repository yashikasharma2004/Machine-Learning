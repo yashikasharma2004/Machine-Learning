{
  "nbformat": 4,
  "nbformat_minor": 0,
  "metadata": {
    "colab": {
      "provenance": []
    },
    "kernelspec": {
      "name": "python3",
      "display_name": "Python 3"
    },
    "language_info": {
      "name": "python"
    }
  },
  "cells": [
    {
      "cell_type": "code",
      "execution_count": 1,
      "metadata": {
        "id": "1rOYNqpb16uk"
      },
      "outputs": [],
      "source": [
        "from sklearn.neighbors import LocalOutlierFactor\n",
        "import numpy as np"
      ]
    },
    {
      "cell_type": "code",
      "source": [
        "X=np.array([[1,1],[2,2],[1.5,1.8],[8,8],[2,1.5],[1.8,1.3],[1.2,1.5],[2,2.2]])"
      ],
      "metadata": {
        "id": "A4HK7b962mib"
      },
      "execution_count": 2,
      "outputs": []
    },
    {
      "cell_type": "code",
      "source": [
        "from sklearn.neighbors import LocalOutlierFactor\n",
        "\n",
        "# Step 1: Create LOF model\n",
        "lof = LocalOutlierFactor(n_neighbors=3)\n",
        "\n",
        "# Step 2: Fit and get predictions\n",
        "y_pred = lof.fit_predict(X)  # X should be your dataset (features only)\n",
        "\n",
        "# Optional: Get LOF scores\n",
        "scores = lof.negative_outlier_factor_\n",
        "print(\"lof scores\",scores)\n"
      ],
      "metadata": {
        "colab": {
          "base_uri": "https://localhost:8080/"
        },
        "id": "NLkgbKVZ241E",
        "outputId": "15df1336-dd86-49e9-f2a3-36e6d5ebe568"
      },
      "execution_count": 5,
      "outputs": [
        {
          "output_type": "stream",
          "name": "stdout",
          "text": [
            "lof scores [ -1.28743983  -1.04037228  -0.91746074 -14.02094919  -0.97171136\n",
            "  -0.96131361  -1.1065023   -1.04967552]\n"
          ]
        }
      ]
    }
  ]
}